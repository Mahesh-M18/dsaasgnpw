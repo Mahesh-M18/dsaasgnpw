{
 "cells": [
  {
   "cell_type": "markdown",
   "id": "26b138e1-f82e-418d-b1e6-c83b47b1ba21",
   "metadata": {},
   "source": [
    "Problem 1.Given an array of n numbers, give an algorithm which gives the element appearing maximum\n",
    "number of times?"
   ]
  },
  {
   "cell_type": "code",
   "execution_count": null,
   "id": "b591120f-a429-48a0-afa6-cf70e5cf1ea3",
   "metadata": {},
   "outputs": [],
   "source": [
    "def find_max_frequency_element(arr):\n",
    "    frequency_map = {}\n",
    "    for num in arr:\n",
    "        if num in frequency_map:\n",
    "            frequency_map[num] += 1\n",
    "        else:\n",
    "            frequency_map[num] = 1\n",
    "    print(frequency_map)\n",
    "    max_frequency = 0\n",
    "    max_frequency_element = None\n",
    "    for num, freq in frequency_map.items():\n",
    "        if freq > max_frequency:\n",
    "            max_frequency = freq\n",
    "            max_frequency_element = num\n",
    "    return max_frequency_element\n",
    "arr = [1, 2, 3, 2, 2, 3, 4, 5, 2]\n",
    "find_max_frequency_element(arr)"
   ]
  },
  {
   "cell_type": "markdown",
   "id": "e740c880-da54-4d25-9473-987de4d21019",
   "metadata": {},
   "source": [
    "Problem 2 : We are given a list of n-1 integers and these integers are in the range of 1 to n . There are no\n",
    "duplicates in the list. One of the integers is missing in the list. Give an algorithm to find that element Ex:\n",
    "[1,2,4,6,3,7,8] 5 is the missing num."
   ]
  },
  {
   "cell_type": "code",
   "execution_count": null,
   "id": "67d3ba5f-81ca-48eb-a191-0fc3d5ff711f",
   "metadata": {},
   "outputs": [],
   "source": [
    "def find_missing_element(arr):\n",
    "    max=0\n",
    "    n=len(arr)\n",
    "    for i in range(1,n):\n",
    "        arr[i]>arr[max]\n",
    "        max=i\n",
    "    for i in range(arr[max],0,-1):\n",
    "        if i not in arr:\n",
    "            return i\n",
    "arr=[1,2,4,6,3,7,8]\n",
    "find_missing_element(arr)"
   ]
  },
  {
   "cell_type": "markdown",
   "id": "0d5da3fe-e88c-43c9-b274-3b21193cc2fe",
   "metadata": {},
   "source": [
    "Problem 3 : Given an array of n positive numbers. All numbers occurs even number of times except 1 which\n",
    "occurs odd number of times. Find that number in O(n) time and O(1) space. Ex: [1,2,3,2,3,1,3]. 3 is repeats odd\n",
    "times."
   ]
  },
  {
   "cell_type": "code",
   "execution_count": null,
   "id": "12bb7a84-0c5c-46dd-b578-2f35349307b7",
   "metadata": {},
   "outputs": [],
   "source": [
    "def find_odd_occurrence(arr):\n",
    "    result = 0\n",
    "    for num in arr:\n",
    "        result ^= num\n",
    "    return result\n",
    "arr = [1, 2, 3, 2, 3, 1, 3]\n",
    "find_odd_occurrence(arr)"
   ]
  },
  {
   "cell_type": "markdown",
   "id": "7f4684e9-38c1-46bd-8b5b-393c4855c592",
   "metadata": {},
   "source": [
    "Problem 4 : Given an array of n elements. Find two elements in the array such that their sum is equal to given\n",
    "element K."
   ]
  },
  {
   "cell_type": "code",
   "execution_count": null,
   "id": "ac665cf4-c936-4d7f-9688-7336dfca1e9c",
   "metadata": {},
   "outputs": [],
   "source": [
    "def sum_equal_to_k(arr,k):\n",
    "    n=len(arr)\n",
    "    for i in range(n-1):\n",
    "        for j in range(i+1,n):\n",
    "            if arr[i]+arr[j]==k:\n",
    "                return (arr[i],arr[j])\n",
    "arr = [1, 2, 3, 2, 3, 1, 3 , 4,6]\n",
    "sum_equal_to_k(arr,5)"
   ]
  },
  {
   "cell_type": "markdown",
   "id": "2f8b2669-7600-45c2-a0df-6ed7b24389a4",
   "metadata": {},
   "source": [
    "Problem 5 : Given an array of both positive and negative numbers, find two numbers such that their sum is\n",
    "closest to 0. Ex: [ 1 ,60 ,-10, 70, -80,85]. Ans : -80,85."
   ]
  },
  {
   "cell_type": "code",
   "execution_count": null,
   "id": "d21545eb-3eab-454e-bd67-0f665a024815",
   "metadata": {},
   "outputs": [],
   "source": [
    "def closest_to_zero(arr):\n",
    "    n=len(arr)\n",
    "    for i in range(n-1):\n",
    "        for j in range(i+1,n):\n",
    "            if arr[i]+arr[j]==0:\n",
    "                return (arr[i],arr[j])\n",
    "arr=[ 1 ,60 ,-10, 70, -80,85]\n",
    "closest_to_zero(arr)"
   ]
  },
  {
   "cell_type": "code",
   "execution_count": null,
   "id": "d3a2aa64-cc48-4946-b405-dabcc80cf10e",
   "metadata": {},
   "outputs": [],
   "source": [
    "def closest_to_zero(arr):\n",
    "    arr.sort()\n",
    "    left = 0\n",
    "    right = len(arr) - 1\n",
    "    closest_sum = float('inf')\n",
    "    closest_pair = None\n",
    "    while left < right:\n",
    "        current_sum = arr[left] + arr[right]\n",
    "        if abs(current_sum) < abs(closest_sum):\n",
    "            closest_sum = current_sum\n",
    "            closest_pair = (arr[left], arr[right])\n",
    "        if current_sum < 0:\n",
    "            left += 1\n",
    "        elif current_sum > 0:\n",
    "            right -= 1\n",
    "        else:\n",
    "            break\n",
    "    return closest_pair\n",
    "arr = [1, 60, -10, 70, -80, 85]\n",
    "closest_to_zero(arr)"
   ]
  },
  {
   "cell_type": "markdown",
   "id": "cad97b4b-00ab-4682-9030-9df4a4c28a24",
   "metadata": {},
   "source": [
    "Problem 6 : Given an array of n elements . Find three elements such that their sum is equal to the given\n",
    "number."
   ]
  },
  {
   "cell_type": "code",
   "execution_count": null,
   "id": "46dc35a5-497e-4dcf-bf0e-444e0022732d",
   "metadata": {},
   "outputs": [],
   "source": [
    "def sum_equal_to_z(arr,z):\n",
    "    n=len(arr)\n",
    "    for i in range(n-2):\n",
    "        for j in range(i+1,n-1):\n",
    "            for k in range(j+1,n):\n",
    "                if arr[i]+arr[j]+arr[k]==z:\n",
    "                    return (arr[i],arr[j],arr[k])\n",
    "arr = [1, 2, 3, 2, 3, 1, 3 , 4,6]\n",
    "sum_equal_to_z(arr,12)"
   ]
  },
  {
   "cell_type": "markdown",
   "id": "aaae2014-e3af-4631-bd83-da7066455472",
   "metadata": {},
   "source": [
    "Problem 7 : Given an array of n elements . Find three elements i, j, k in the array such that\n",
    "i * i + j * j = k*k."
   ]
  },
  {
   "cell_type": "code",
   "execution_count": null,
   "id": "8e0c9cb5-57bb-40d1-81be-11c336aac5ab",
   "metadata": {},
   "outputs": [],
   "source": [
    "def pythagorean_triplet(arr):\n",
    "    n=len(arr)\n",
    "    for i in range(n-2):\n",
    "        for j in range(i+1,n-1):\n",
    "            for k in range(j+1,n):\n",
    "                if (arr[i]**2)+(arr[j]**2)==(arr[k]**2):\n",
    "                    return (arr[i],arr[j],arr[k])\n",
    "arr = [8,1, 2, 3, 2,15, 3, 1, 3 , 4,6,17]\n",
    "pythagorean_triplet(arr)"
   ]
  },
  {
   "cell_type": "markdown",
   "id": "bfd93b13-d6c2-46b7-9b76-b8cb080b27f9",
   "metadata": {},
   "source": [
    "Problem 8 : An element is a majority if it appears more than n/2 times. Give an algorithm takes an array of n\n",
    "element as argument and identifies a majority (if it exists)."
   ]
  },
  {
   "cell_type": "code",
   "execution_count": null,
   "id": "1747fdbf-1697-489b-a43e-f4b6098b7007",
   "metadata": {},
   "outputs": [],
   "source": [
    "def find_max_frequency_element(arr):\n",
    "    n=len(arr)\n",
    "    frequency_map = {}\n",
    "    for num in arr:\n",
    "        if num in frequency_map:\n",
    "            frequency_map[num] += 1\n",
    "        else:\n",
    "            frequency_map[num] = 1\n",
    "    max_frequency = 0\n",
    "    max_frequency_element = None\n",
    "    for num, freq in frequency_map.items():\n",
    "        if freq >(n//2):\n",
    "            max_frequency = freq\n",
    "            max_frequency_element = num\n",
    "    return max_frequency_element\n",
    "arr = [1, 2, 3, 2, 2,2, 4, 5, 2]\n",
    "find_max_frequency_element(arr)"
   ]
  },
  {
   "cell_type": "markdown",
   "id": "a6b04875-be16-4583-84a7-7981377ef377",
   "metadata": {},
   "source": [
    "Problem 9 : Given n × n matrix, and in each row all 1’s are followed by 0’s. Find the row with the maximum\n",
    "number of 0’s."
   ]
  },
  {
   "cell_type": "code",
   "execution_count": null,
   "id": "beb8e99c-3f2c-4cdb-ace8-f666b73127a4",
   "metadata": {},
   "outputs": [],
   "source": [
    "def find_row_with_max_zeros(matrix):\n",
    "    max_zeros_row = -1\n",
    "    max_zeros_count = -1\n",
    "    for i, row in enumerate(matrix):\n",
    "        zeros_count = row.count(0)\n",
    "        if zeros_count > max_zeros_count:\n",
    "            max_zeros_count = zeros_count\n",
    "            max_zeros_row = i\n",
    "    return max_zeros_row+1\n",
    "matrix = [\n",
    "    [1, 1, 1, 0],\n",
    "    [1, 1, 0, 0],\n",
    "    [1, 1, 1, 0],\n",
    "    [1, 0, 0, 0]\n",
    "]\n",
    "find_row_with_max_zeros(matrix)"
   ]
  },
  {
   "cell_type": "markdown",
   "id": "417fb55c-6234-4e0d-9115-06a9c7dc72f9",
   "metadata": {},
   "source": [
    "Problem 10 : Sort an array of 0’s, 1’s and 2’s [or R’s, G’s and B’s]: Given an array A[] consisting of 0’s, 1’s and\n",
    "2’s, give an algorithm for sorting A[].The algorithm should put all 0’s first, then all 1’s and finally all 2’s at the\n",
    "end. Example Input = {0,1,1,0,1,2,1,2,0,0,0,1}, Output = {0,0,0,0,0,1,1,1,1,1,2,2}"
   ]
  },
  {
   "cell_type": "code",
   "execution_count": null,
   "id": "707ab265-757a-4959-bbfa-37e671d7b121",
   "metadata": {},
   "outputs": [],
   "source": [
    "def sort_012(arr):\n",
    "    low = 0\n",
    "    mid = 0\n",
    "    high = len(arr) - 1\n",
    "    while mid <= high:\n",
    "        if arr[mid] == 0:\n",
    "            arr[low], arr[mid] = arr[mid], arr[low]\n",
    "            low += 1\n",
    "            mid += 1\n",
    "        elif arr[mid] == 1:\n",
    "            mid += 1\n",
    "        else:\n",
    "            arr[mid], arr[high] = arr[high], arr[mid]\n",
    "            high -= 1\n",
    "    return arr\n",
    "arr = [0, 1, 1, 0, 1, 2, 1, 2, 0, 0, 0, 1]\n",
    "sort_012(arr)"
   ]
  }
 ],
 "metadata": {
  "kernelspec": {
   "display_name": "Python 3 (ipykernel)",
   "language": "python",
   "name": "python3"
  },
  "language_info": {
   "codemirror_mode": {
    "name": "ipython",
    "version": 3
   },
   "file_extension": ".py",
   "mimetype": "text/x-python",
   "name": "python",
   "nbconvert_exporter": "python",
   "pygments_lexer": "ipython3",
   "version": "3.10.8"
  }
 },
 "nbformat": 4,
 "nbformat_minor": 5
}
